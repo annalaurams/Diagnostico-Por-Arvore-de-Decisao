{
 "cells": [
  {
   "cell_type": "code",
   "execution_count": null,
   "metadata": {},
   "outputs": [
    {
     "name": "stdout",
     "output_type": "stream",
     "text": [
      "Árvore de Decisão: Diagnóstico de Câncer de Mama\n",
      "-> Diagnóstico provável: Benigno\n"
     ]
    }
   ],
   "source": [
    "def arvore_decisao():\n",
    "    print(\"\\nÁrvore de Decisão: Diagnóstico de Câncer de Mama\\n\")\n",
    "\n",
    "    idade = input(\"A paciente tem mais de 50 anos? (sim/nao): \").strip().lower()\n",
    "    \n",
    "    if idade == \"sim\":\n",
    "        tamanho_nodulo = input(\"O nódulo tem mais de 2 cm? (sim/nao): \").strip().lower()\n",
    "        if tamanho_nodulo == \"sim\":\n",
    "            forma = input(\"O nódulo tem forma irregular? (sim/nao): \").strip().lower()\n",
    "            if forma == \"sim\":\n",
    "                print(\"-> Diagnóstico provável: Maligno\")\n",
    "            else:\n",
    "                densidade = input(\"O nódulo tem densidade alta na mamografia? (sim/nao): \").strip().lower()\n",
    "                if densidade == \"sim\":\n",
    "                    print(\"-> Diagnóstico provável: Maligno\")\n",
    "                else:\n",
    "                    print(\"-> Diagnóstico provável: Benigno\")\n",
    "        else:\n",
    "            dor = input(\"A paciente sente dor no local do nódulo? (sim/nao): \").strip().lower()\n",
    "            if dor == \"sim\":\n",
    "                print(\"-> Diagnóstico provável: Benigno\")\n",
    "            else:\n",
    "                crescimento = input(\"O nódulo está crescendo rapidamente? (sim/nao): \").strip().lower()\n",
    "                if crescimento == \"sim\":\n",
    "                    print(\"-> Diagnóstico provável: Maligno\")\n",
    "                else:\n",
    "                    print(\"-> Diagnóstico provável: Benigno\")\n",
    "    else:\n",
    "        secrecao = input(\"Há secreção no mamilo? (sim/nao): \").strip().lower()\n",
    "        if secrecao == \"sim\":\n",
    "            cor = input(\"A secreção é sanguinolenta? (sim/nao): \").strip().lower()\n",
    "            if cor == \"sim\":\n",
    "                print(\"-> Diagnóstico provável: Maligno\")\n",
    "            else:\n",
    "                print(\"-> Diagnóstico provável: Benigno\")\n",
    "        else:\n",
    "            linfonodos = input(\"Os linfonodos próximos estão inchados? (sim/nao): \").strip().lower()\n",
    "            if linfonodos == \"sim\":\n",
    "                print(\"-> Diagnóstico provável: Maligno\")\n",
    "            else:\n",
    "                hereditario = input(\"Há histórico familiar de câncer de mama? (sim/nao): \").strip().lower()\n",
    "                if hereditario == \"sim\":\n",
    "                    print(\"-> Diagnóstico provável: Maligno\")\n",
    "                else:\n",
    "                    print(\"-> Diagnóstico provável: Benigno\")\n",
    "\n",
    "\n",
    "arvore_decisao()\n"
   ]
  }
 ],
 "metadata": {
  "kernelspec": {
   "display_name": "Python 3",
   "language": "python",
   "name": "python3"
  },
  "language_info": {
   "codemirror_mode": {
    "name": "ipython",
    "version": 3
   },
   "file_extension": ".py",
   "mimetype": "text/x-python",
   "name": "python",
   "nbconvert_exporter": "python",
   "pygments_lexer": "ipython3",
   "version": "3.12.3"
  }
 },
 "nbformat": 4,
 "nbformat_minor": 2
}
